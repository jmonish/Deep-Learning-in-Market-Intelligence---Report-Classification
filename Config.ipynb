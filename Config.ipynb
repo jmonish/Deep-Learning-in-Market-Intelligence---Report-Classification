{
 "cells": [
  {
   "cell_type": "code",
   "execution_count": null,
   "metadata": {},
   "outputs": [],
   "source": [
    "from ModelConfig import ModelConfig\n",
    "from TrainingConfig import TrainingConfig\n",
    "\n",
    "class Config(object):\n",
    "    \n",
    "    maxSeqLength = 200                              #length of chunks which every report is split into\n",
    "    overlap = 50                                    #overlap between two consecutive chunks of a report\n",
    "    labelList = [i for i in range(0,11)]            #11 different industries used by HERE\n",
    "    dataSource = \"/content/drive/MyDrive/Data.csv\"  #path to training data (csv)\n",
    "    checkpointPath= \"/reports_category_5_6_1\"       #path to save model checkpoints\n",
    "    model = ModelConfig()\n",
    "    training = TrainingConfig()\n",
    "    testSize = 0.2                                  #split for BERT\n",
    "    testSizeLSTM = 0.4                              #split for LSTM"
   ]
  }
 ],
 "metadata": {
  "kernelspec": {
   "display_name": "Python 3",
   "language": "python",
   "name": "python3"
  },
  "language_info": {
   "codemirror_mode": {
    "name": "ipython",
    "version": 3
   },
   "file_extension": ".py",
   "mimetype": "text/x-python",
   "name": "python",
   "nbconvert_exporter": "python",
   "pygments_lexer": "ipython3",
   "version": "3.8.3"
  }
 },
 "nbformat": 4,
 "nbformat_minor": 4
}
