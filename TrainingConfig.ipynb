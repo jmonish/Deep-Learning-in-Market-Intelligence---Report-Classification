{
 "cells": [
  {
   "cell_type": "code",
   "execution_count": null,
   "metadata": {},
   "outputs": [],
   "source": [
    "class TrainingConfig(object):\n",
    "\n",
    "    # set training config\n",
    "\n",
    "    #BERT training config\n",
    "    numTrainEpochs = 1\n",
    "    learningRate = 2e-5\n",
    "    batchSize = 8\n",
    "    warmUpProportion = 0.1\n",
    "\n",
    "    #LSTM training config\n",
    "    batch_size_train = 2\n",
    "    batches_per_epoch_train = 91\n",
    "    batch_size_val = 3\n",
    "    batches_per_epoch_val = 9\n",
    "    batch_size_test = 1\n",
    "    batches_per_epoch_test = 19 "
   ]
  }
 ],
 "metadata": {
  "kernelspec": {
   "display_name": "Python 3",
   "language": "python",
   "name": "python3"
  },
  "language_info": {
   "codemirror_mode": {
    "name": "ipython",
    "version": 3
   },
   "file_extension": ".py",
   "mimetype": "text/x-python",
   "name": "python",
   "nbconvert_exporter": "python",
   "pygments_lexer": "ipython3",
   "version": "3.8.3"
  }
 },
 "nbformat": 4,
 "nbformat_minor": 4
}
