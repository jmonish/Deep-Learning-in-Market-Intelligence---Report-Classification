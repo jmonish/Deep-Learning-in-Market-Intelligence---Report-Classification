{
 "cells": [
  {
   "cell_type": "code",
   "execution_count": null,
   "metadata": {},
   "outputs": [],
   "source": [
    "class ModelConfig(object):\n",
    "\n",
    "    # set LSTM model parameters\n",
    "\n",
    "    num_epochs=10\n",
    "    lstm_units=100\n",
    "    lstm_dropout=0.2\n",
    "    dense_units=50\n",
    "    dense_activation = \"sigmoid\"\n",
    "    output_activation = \"softmax\"\n",
    "    optimizer = \"adam\"\n",
    "    loss = \"sparse_categorical_crossentropy\"\n",
    "    metrics = [\"acc\"]"
   ]
  }
 ],
 "metadata": {
  "kernelspec": {
   "display_name": "Python 3",
   "language": "python",
   "name": "python3"
  },
  "language_info": {
   "codemirror_mode": {
    "name": "ipython",
    "version": 3
   },
   "file_extension": ".py",
   "mimetype": "text/x-python",
   "name": "python",
   "nbconvert_exporter": "python",
   "pygments_lexer": "ipython3",
   "version": "3.8.3"
  }
 },
 "nbformat": 4,
 "nbformat_minor": 4
}
