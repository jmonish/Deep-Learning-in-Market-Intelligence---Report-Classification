{
 "cells": [
  {
   "cell_type": "code",
   "execution_count": null,
   "metadata": {},
   "outputs": [],
   "source": [
    "#Install bert package for tensorflow v1\n",
    "!pip install bert-tensorflow==1.0.1\n",
    "import bert\n",
    "from bert import run_classifier\n",
    "from bert import optimization\n",
    "from bert import tokenization\n",
    "\n",
    "from datetime import datetime\n",
    "import keras\n",
    "from keras import layers\n",
    "from keras.callbacks import ReduceLROnPlateau\n",
    "import numpy as np\n",
    "import pandas as pd\n",
    "import tensorflow as tf\n",
    "import tensorflow_hub as hub\n",
    "from tqdm.notebook import tqdm #adds progress bars to show loop status\n",
    "from sklearn.model_selection import train_test_split\n",
    "from sklearn.preprocessing import LabelEncoder\n",
    "\n",
    "def getEmbeddings(df1, df2, trainData, index, classifier):\n",
    "\n",
    "    \"\"\"A funtion to extract vector representations (embeddings) from pooled output of BERT. The function first fetches these representations\n",
    "    for all rows in the dataset df2(with text split applied to all reports), combines the splits from the same report using index \n",
    "    (index from originial reports data is preserved for all split chunks) and then maps the list of vector representations with corresonding \n",
    "    industry label from dataset df1(without text split applied to all reports) and report name from trainData(initial dataframe read from csv)\n",
    "    \"\"\"\n",
    "\n",
    "    df_emb = np.apply_along_axis(classifier.GetPrediction, 0,np.array(df2[\"text\"]))   #extracts vector representations\n",
    "\n",
    "    #combines vector representations belonging to single report\n",
    "    aux = -1\n",
    "    len_l = 0\n",
    "    x = {}\n",
    "    for l, emb in zip(index, df_emb):\n",
    "        if l in x.keys():\n",
    "            x[l]  =np.vstack([x[l], emb])\n",
    "        else:\n",
    "            x[l] = [emb]\n",
    "\n",
    "    #maps list of vector representations with corresponding industry labels and report names\n",
    "    l_final = []\n",
    "    label_l_final = []\n",
    "    name = []\n",
    "    for k in x.keys():\n",
    "        l_final.append(x[k])\n",
    "        label_l_final.append(df1.loc[k]['Industry'])\n",
    "        name.append(trainData.Name.loc[k])\n",
    "\n",
    "    df = pd.DataFrame({'Name': name, 'emb': l_final, 'label': label_l_final})\n",
    "\n",
    "    return df"
   ]
  }
 ],
 "metadata": {
  "kernelspec": {
   "display_name": "Python 3",
   "language": "python",
   "name": "python3"
  },
  "language_info": {
   "codemirror_mode": {
    "name": "ipython",
    "version": 3
   },
   "file_extension": ".py",
   "mimetype": "text/x-python",
   "name": "python",
   "nbconvert_exporter": "python",
   "pygments_lexer": "ipython3",
   "version": "3.8.3"
  }
 },
 "nbformat": 4,
 "nbformat_minor": 4
}
